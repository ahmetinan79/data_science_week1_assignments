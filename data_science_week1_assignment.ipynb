{
 "cells": [
  {
   "cell_type": "code",
   "execution_count": 1,
   "metadata": {},
   "outputs": [],
   "source": [
    "# 1. Numpy’da Vektor ve Matrisin farkini tek cumle ile ifade ediniz.\n",
    "    # Tek boyutlu arraylere vektor, cok boyutlu arraylere matris denir."
   ]
  },
  {
   "cell_type": "code",
   "execution_count": 2,
   "metadata": {},
   "outputs": [
    {
     "data": {
      "text/plain": [
       "array([0, 1, 2, 3, 4, 5, 6, 7, 8, 9])"
      ]
     },
     "execution_count": 2,
     "metadata": {},
     "output_type": "execute_result"
    }
   ],
   "source": [
    "# 2. 10 elemanli bir listeden NumPy Array’i olusturunuz.\n",
    "import numpy as np\n",
    "my_list = [i for i in range(10)]\n",
    "array1 = np.array(my_list)\n",
    "array1"
   ]
  },
  {
   "cell_type": "code",
   "execution_count": 3,
   "metadata": {},
   "outputs": [
    {
     "data": {
      "text/plain": [
       "array([[0, 0, 0, 0, 0, 0, 0, 0, 0, 0],\n",
       "       [0, 0, 0, 0, 0, 0, 0, 0, 0, 0],\n",
       "       [0, 0, 0, 0, 0, 0, 0, 0, 0, 0],\n",
       "       [0, 0, 0, 0, 0, 0, 0, 0, 0, 0],\n",
       "       [0, 0, 0, 0, 0, 0, 0, 0, 0, 0],\n",
       "       [0, 0, 0, 0, 0, 0, 0, 0, 0, 0],\n",
       "       [0, 0, 0, 0, 0, 0, 0, 0, 0, 0],\n",
       "       [0, 0, 0, 0, 0, 0, 0, 0, 0, 0],\n",
       "       [0, 0, 0, 0, 0, 0, 0, 0, 0, 0],\n",
       "       [0, 0, 0, 0, 0, 0, 0, 0, 0, 0]])"
      ]
     },
     "execution_count": 3,
     "metadata": {},
     "output_type": "execute_result"
    }
   ],
   "source": [
    "# 3. Icerisinde ‘0’ lar olan, ve veri tipi integer olan 10X10’luk bir matris olusturunuz.\n",
    "zeros = np.zeros((10,10), dtype='int32')\n",
    "zeros"
   ]
  },
  {
   "cell_type": "code",
   "execution_count": 4,
   "metadata": {},
   "outputs": [
    {
     "data": {
      "text/plain": [
       "array([[1., 1., 1., 1., 1., 1., 1., 1., 1., 1.],\n",
       "       [1., 1., 1., 1., 1., 1., 1., 1., 1., 1.],\n",
       "       [1., 1., 1., 1., 1., 1., 1., 1., 1., 1.],\n",
       "       [1., 1., 1., 1., 1., 1., 1., 1., 1., 1.],\n",
       "       [1., 1., 1., 1., 1., 1., 1., 1., 1., 1.],\n",
       "       [1., 1., 1., 1., 1., 1., 1., 1., 1., 1.],\n",
       "       [1., 1., 1., 1., 1., 1., 1., 1., 1., 1.],\n",
       "       [1., 1., 1., 1., 1., 1., 1., 1., 1., 1.],\n",
       "       [1., 1., 1., 1., 1., 1., 1., 1., 1., 1.],\n",
       "       [1., 1., 1., 1., 1., 1., 1., 1., 1., 1.]])"
      ]
     },
     "execution_count": 4,
     "metadata": {},
     "output_type": "execute_result"
    }
   ],
   "source": [
    "# 4. Icerisinde ‘1’ ler olan, veri tipi float olan 10X10’luk bir matris olusturunuz.\n",
    "ones = np.ones((10,10))\n",
    "ones"
   ]
  },
  {
   "cell_type": "code",
   "execution_count": 5,
   "metadata": {},
   "outputs": [
    {
     "data": {
      "text/plain": [
       "array([[9, 9, 9, 9, 9, 9, 9, 9, 9, 9],\n",
       "       [9, 9, 9, 9, 9, 9, 9, 9, 9, 9],\n",
       "       [9, 9, 9, 9, 9, 9, 9, 9, 9, 9],\n",
       "       [9, 9, 9, 9, 9, 9, 9, 9, 9, 9],\n",
       "       [9, 9, 9, 9, 9, 9, 9, 9, 9, 9],\n",
       "       [9, 9, 9, 9, 9, 9, 9, 9, 9, 9],\n",
       "       [9, 9, 9, 9, 9, 9, 9, 9, 9, 9],\n",
       "       [9, 9, 9, 9, 9, 9, 9, 9, 9, 9],\n",
       "       [9, 9, 9, 9, 9, 9, 9, 9, 9, 9],\n",
       "       [9, 9, 9, 9, 9, 9, 9, 9, 9, 9]])"
      ]
     },
     "execution_count": 5,
     "metadata": {},
     "output_type": "execute_result"
    }
   ],
   "source": [
    "# 5. Icerisinde ‘9’ lar olan, veri tipi integer olan 10X10’luk bir matris olusturunuz.\n",
    "nines = np.full((10,10),9, dtype = 'int32')\n",
    "nines"
   ]
  },
  {
   "cell_type": "code",
   "execution_count": 6,
   "metadata": {},
   "outputs": [
    {
     "data": {
      "text/plain": [
       "array([ 5,  8, 11, 14, 17, 20, 23])"
      ]
     },
     "execution_count": 6,
     "metadata": {},
     "output_type": "execute_result"
    }
   ],
   "source": [
    "# 6. 5 ile 25 arasinda, 3’er 3’er atlayan tek boyutlu bir Array olusturunuz.\n",
    "array2 = np.arange(5,25,3)\n",
    "array2"
   ]
  },
  {
   "cell_type": "code",
   "execution_count": 7,
   "metadata": {},
   "outputs": [
    {
     "data": {
      "text/plain": [
       "array([-1.        , -0.93103448, -0.86206897, -0.79310345, -0.72413793,\n",
       "       -0.65517241, -0.5862069 , -0.51724138, -0.44827586, -0.37931034,\n",
       "       -0.31034483, -0.24137931, -0.17241379, -0.10344828, -0.03448276,\n",
       "        0.03448276,  0.10344828,  0.17241379,  0.24137931,  0.31034483,\n",
       "        0.37931034,  0.44827586,  0.51724138,  0.5862069 ,  0.65517241,\n",
       "        0.72413793,  0.79310345,  0.86206897,  0.93103448,  1.        ])"
      ]
     },
     "execution_count": 7,
     "metadata": {},
     "output_type": "execute_result"
    }
   ],
   "source": [
    "# 7. -1 ile 1 arasinda 30 adet Array olusturunuz.\n",
    "array3 = np.linspace(-1,1,30)\n",
    "array3"
   ]
  },
  {
   "cell_type": "code",
   "execution_count": 8,
   "metadata": {},
   "outputs": [
    {
     "data": {
      "text/plain": [
       "array([[ 5, 12,  7,  4, 19, 25],\n",
       "       [ 6,  5,  2, 10,  5, 28],\n",
       "       [22,  9,  3, 26,  3, 20],\n",
       "       [18,  3, 16, 21,  2, 21],\n",
       "       [ 5,  7, 17,  1, 21, 12]])"
      ]
     },
     "execution_count": 8,
     "metadata": {},
     "output_type": "execute_result"
    }
   ],
   "source": [
    "# 8. 0 ile 30 arasinda 5x6’lik bir matris olusturun.\n",
    "array4 = np.random.randint(0,30,(5,6))\n",
    "array4"
   ]
  },
  {
   "cell_type": "code",
   "execution_count": 9,
   "metadata": {},
   "outputs": [
    {
     "data": {
      "text/plain": [
       "array([[1., 0., 0., 0., 0., 0., 0., 0., 0., 0.],\n",
       "       [0., 1., 0., 0., 0., 0., 0., 0., 0., 0.],\n",
       "       [0., 0., 1., 0., 0., 0., 0., 0., 0., 0.],\n",
       "       [0., 0., 0., 1., 0., 0., 0., 0., 0., 0.],\n",
       "       [0., 0., 0., 0., 1., 0., 0., 0., 0., 0.],\n",
       "       [0., 0., 0., 0., 0., 1., 0., 0., 0., 0.],\n",
       "       [0., 0., 0., 0., 0., 0., 1., 0., 0., 0.],\n",
       "       [0., 0., 0., 0., 0., 0., 0., 1., 0., 0.],\n",
       "       [0., 0., 0., 0., 0., 0., 0., 0., 1., 0.],\n",
       "       [0., 0., 0., 0., 0., 0., 0., 0., 0., 1.]])"
      ]
     },
     "execution_count": 9,
     "metadata": {},
     "output_type": "execute_result"
    }
   ],
   "source": [
    "# 9. Kosegenleri 1 olan 10x10’luk bir matris olusturunuz. \n",
    "array5 = np.eye(10)\n",
    "array5"
   ]
  },
  {
   "cell_type": "code",
   "execution_count": 10,
   "metadata": {},
   "outputs": [
    {
     "name": "stdout",
     "output_type": "stream",
     "text": [
      "[[9 8 5 1 9 7 2 0 4 3]\n",
      " [6 7 6 5 3 1 6 7 1 2]\n",
      " [6 2 6 0 9 5 4 2 3 6]\n",
      " [6 4 9 0 1 0 6 7 8 5]\n",
      " [0 1 6 8 3 1 3 2 7 3]]\n",
      "eleman sayisi =  50\n",
      "boyut bilgisi =  2\n",
      "satir,sutun bilgisi =  (5, 10)\n",
      "veri tipi =  int32\n"
     ]
    }
   ],
   "source": [
    "# 10. 0 ile 10 arasinda 5x10’lik bir matris olusturun. (integer) ve bu matrisin;\n",
    "#     10.1 eleman sayisini\n",
    "#     10.2 boyut bilgisini/sayisini\n",
    "#     10.3 satir X sutun bilgisini\n",
    "#     10.4 veri tipini numpy metodlariyla yazdiriniz.\n",
    "array5 = np.random.randint(0,10,(5,10))\n",
    "print(array5)\n",
    "print(\"eleman sayisi = \", array5.size)\n",
    "print(\"boyut bilgisi = \", array5.ndim)\n",
    "print(\"satir,sutun bilgisi = \", array5.shape)\n",
    "print(\"veri tipi = \", array5.dtype)"
   ]
  },
  {
   "cell_type": "code",
   "execution_count": 11,
   "metadata": {},
   "outputs": [
    {
     "data": {
      "text/plain": [
       "array([[[5, 1, 6, 7, 0, 8, 7],\n",
       "        [3, 5, 6, 7, 9, 3, 0],\n",
       "        [0, 1, 7, 7, 2, 6, 4],\n",
       "        [0, 3, 6, 4, 4, 7, 2]],\n",
       "\n",
       "       [[7, 8, 3, 9, 6, 0, 6],\n",
       "        [5, 0, 2, 0, 7, 1, 7],\n",
       "        [1, 7, 9, 6, 4, 4, 4],\n",
       "        [5, 1, 3, 7, 8, 9, 8]],\n",
       "\n",
       "       [[7, 4, 8, 3, 2, 3, 9],\n",
       "        [4, 6, 5, 5, 1, 3, 3],\n",
       "        [2, 7, 4, 3, 1, 9, 2],\n",
       "        [0, 9, 5, 3, 7, 0, 0]]])"
      ]
     },
     "execution_count": 11,
     "metadata": {},
     "output_type": "execute_result"
    }
   ],
   "source": [
    "# 11. 0 ile 10 arasindaki degerlerden olusan 3 adet 4x7’lik bir matris olusturunuz (3 boyutlu bir matris olusturulacak).\n",
    "array6 = np.random.randint(0,10,(3,4,7))\n",
    "array6"
   ]
  },
  {
   "cell_type": "code",
   "execution_count": 12,
   "metadata": {},
   "outputs": [
    {
     "data": {
      "text/plain": [
       "array([[ 0,  1,  2,  3],\n",
       "       [ 4,  5,  6,  7],\n",
       "       [ 8,  9, 10, 11]])"
      ]
     },
     "execution_count": 12,
     "metadata": {},
     "output_type": "execute_result"
    }
   ],
   "source": [
    "# 12. Bir vektor olusturunuz ve daha sonrasinda ayni vektoru bir matrise ceviriniz.\n",
    "array7 = np.arange(12)\n",
    "matris1 = array7.reshape(3,4)\n",
    "matris1"
   ]
  },
  {
   "cell_type": "code",
   "execution_count": 13,
   "metadata": {},
   "outputs": [
    {
     "data": {
      "text/plain": [
       "array([ 0,  1,  2,  3,  4,  5,  6,  7,  8,  9, 10, 11, 12, 13, 14, 15, 16,\n",
       "       17, 18, 19])"
      ]
     },
     "execution_count": 13,
     "metadata": {},
     "output_type": "execute_result"
    }
   ],
   "source": [
    "# 13. 4 tane ayri tek boyutlu array’i birlestirerek bir array olusturunuz.\n",
    "array8 = np.arange(5)\n",
    "array9 = np.arange(5,10)\n",
    "array10 = np.arange(10,15)\n",
    "array11 = np.arange(15,20)\n",
    "array_con = np.concatenate([array8,array9,array10,array11])\n",
    "array_con"
   ]
  },
  {
   "cell_type": "code",
   "execution_count": 47,
   "metadata": {},
   "outputs": [
    {
     "data": {
      "text/plain": [
       "array([[ 6,  6,  8,  8, 14, 16, 17, 12],\n",
       "       [ 8,  8,  3,  2, 12, 17, 17, 17]])"
      ]
     },
     "execution_count": 47,
     "metadata": {},
     "output_type": "execute_result"
    }
   ],
   "source": [
    "# 14. 2 boyutlu bir vektor ve bir matris olusturun(ayri ayri), bu iki arrayi numpy metodlarini kullanarak sutun bazli birlestiriniz.\n",
    "vector1 = np.random.randint(0,9,(2,4))\n",
    "matris2 = np.random.randint(10,18,(2,4))\n",
    "matris_con = np.concatenate([vector1,matris2], axis=1)\n",
    "matris_con"
   ]
  },
  {
   "cell_type": "code",
   "execution_count": 15,
   "metadata": {},
   "outputs": [],
   "source": [
    "#15. Numpy’da “axis=1” ve “axis=0”  arasinda ne fark vardir. Teorik olarak yaziniz?\n",
    "    # 'axis=1' satirlari, 'axis=0' sutunlari belirtmek icin kullanilir. \n",
    "    # Orn. concatenate metodunda, iki matrisi horizontal olarak birlestirmek icin axis=1, \n",
    "    # vertical olarak birlestirmek icin axis=0 kodunu yazariz.\n",
    "    # numpy'de default deger axis=0'dir."
   ]
  },
  {
   "cell_type": "code",
   "execution_count": 16,
   "metadata": {},
   "outputs": [
    {
     "data": {
      "text/plain": [
       "array([[ 1,  1,  2, 11, 13, 16, 12],\n",
       "       [ 4,  5,  0, 15, 17, 17, 13]])"
      ]
     },
     "execution_count": 16,
     "metadata": {},
     "output_type": "execute_result"
    }
   ],
   "source": [
    "# 16. Farkli boyutlardaki arraylari satin ve sutun bazli ayri ayri birlestiriniz.\n",
    "# Horizontal birlestirme\n",
    "matris3 = np.random.randint(0,6,(2,3))\n",
    "matris4 = np.random.randint(10,18,(2,4))\n",
    "matris_hstack = np.hstack([matris3,matris4])\n",
    "matris_hstack"
   ]
  },
  {
   "cell_type": "code",
   "execution_count": 17,
   "metadata": {},
   "outputs": [
    {
     "data": {
      "text/plain": [
       "array([[ 3,  5],\n",
       "       [ 3,  3],\n",
       "       [ 2,  4],\n",
       "       [13, 12],\n",
       "       [14, 14],\n",
       "       [15, 11],\n",
       "       [12, 12]])"
      ]
     },
     "execution_count": 17,
     "metadata": {},
     "output_type": "execute_result"
    }
   ],
   "source": [
    "# Vertical birlestirme\n",
    "matris5 = np.random.randint(0,6,(3,2))\n",
    "matris6 = np.random.randint(10,18,(4,2))\n",
    "matris_vstack = np.vstack([matris5,matris6])\n",
    "matris_vstack"
   ]
  },
  {
   "cell_type": "code",
   "execution_count": 18,
   "metadata": {},
   "outputs": [
    {
     "name": "stdout",
     "output_type": "stream",
     "text": [
      "[0 1] [2 3 4] [5 6 7] [8 9]\n"
     ]
    }
   ],
   "source": [
    "# 17. 10 elemanli bi liste olusturunuz ve bu listeyi Numpy metodlariyla bolerek(split) 4 ayri array olusturunuz.\n",
    "my_list2 = [i for i in range(11,21)]\n",
    "a1,a2,a3,a4 = np.split(my_list,(2,5,8))\n",
    "print(a1,a2,a3,a4)"
   ]
  },
  {
   "cell_type": "code",
   "execution_count": 48,
   "metadata": {},
   "outputs": [
    {
     "name": "stdout",
     "output_type": "stream",
     "text": [
      "[ 0  4  9 17 18 22 22 22 28 31 36 36]\n",
      "number: 0 , index: 0\n",
      "number: 4 , index: 1\n",
      "number: 9 , index: 2\n",
      "number: 17 , index: 3\n",
      "number: 18 , index: 4\n",
      "number: 22 , index: 5\n",
      "number: 22 , index: 5\n",
      "number: 22 , index: 5\n",
      "number: 28 , index: 8\n",
      "number: 31 , index: 9\n",
      "number: 36 , index: 10\n",
      "number: 36 , index: 10\n"
     ]
    }
   ],
   "source": [
    "# 18. Random bir array olusturunuz ve bu arrayi buyukten kucuge dogru siralayiniz.\n",
    "# Ve bu siralamadan sonra hangi elemanin hangi indexte oldugunu gosteren bir metod uygulayiniz.\n",
    "array12 = np.random.randint(40, size = (12))\n",
    "array12_sorted = np.sort(array12)\n",
    "print(array12_sorted)\n",
    "for i in list(array12_sorted):\n",
    "        print(f\"number: {i} , index: {list(array12_sorted).index(i)}\")"
   ]
  },
  {
   "cell_type": "code",
   "execution_count": 20,
   "metadata": {},
   "outputs": [
    {
     "name": "stdout",
     "output_type": "stream",
     "text": [
      "vector 2= [38 92 37 23 91 65 59 96 60 28 68 83 66 69 49 88 64 55 23 86]\n",
      "3rd: 37\n",
      "5th: 91\n",
      "7th: 59\n"
     ]
    }
   ],
   "source": [
    "# 19. 20 elemanli random bir vektor olusturunuz. Bu vektorun 3. 5. ve 7. elemanlarina ulasin.\n",
    "vector2 = np.random.randint(20,100, size=(20))\n",
    "print(f\"vector 2= {vector2}\\n3rd: {vector2[2]}\\n5th: {vector2[4]}\\n7th: {vector2[6]}\")"
   ]
  },
  {
   "cell_type": "code",
   "execution_count": 21,
   "metadata": {},
   "outputs": [
    {
     "name": "stdout",
     "output_type": "stream",
     "text": [
      "[44 43 80 86 84 49 81 33 20 40]\n",
      "[  44   43   80 1111   84   49   81   33   20   40]\n"
     ]
    }
   ],
   "source": [
    "# 20. 10 elemanli random bir vektor olusturunuz ve bu arrayin  4. elemanini farkli bir sayiyla degistiriniz.\n",
    "vector3 = np.random.randint(20,100, size=(10))\n",
    "print(vector3)\n",
    "vector3[3]=1111\n",
    "print(vector3)"
   ]
  },
  {
   "cell_type": "code",
   "execution_count": 22,
   "metadata": {},
   "outputs": [],
   "source": [
    "# 21. “Diagonal Matrix” ve “Trace Matrix”  kavramlari hakkinda kucuk bir arastirma yapip, bunlarin ne oldugunu belirten kucuk bir aciklama yaziniz.\n",
    "    # Diagonal Matrix: Kosegenleri sol yukaridan sag asagiya dogru 1 olan matrislerdir.\n",
    "        # Ayrica diagonal matrisin satir ve sutun sayilari birbirine esittir(kare matris). \n",
    "    # Trace Matrix: Kare bir matriste sol yukardan sag asagiya kosegenlerin toplamidir. "
   ]
  },
  {
   "cell_type": "code",
   "execution_count": 23,
   "metadata": {},
   "outputs": [
    {
     "name": "stdout",
     "output_type": "stream",
     "text": [
      "1.0\n",
      "1.0\n",
      "1.0\n",
      "1.0\n",
      "1.0\n"
     ]
    }
   ],
   "source": [
    "# 22. 5x5’lik Diagonal bir matris olusturunuz ve \n",
    "# Diagonaline denk gelen indexlere ulasiniz.(ayri ayri)\n",
    "matris8 = np.eye(5,5)\n",
    "for i in range(5):\n",
    "    for j in range(5):\n",
    "        if i==j:\n",
    "            print(matris8[i,j])"
   ]
  },
  {
   "cell_type": "code",
   "execution_count": 24,
   "metadata": {},
   "outputs": [
    {
     "data": {
      "text/plain": [
       "array([13, 14, 15, 16, 17, 18, 19])"
      ]
     },
     "execution_count": 24,
     "metadata": {},
     "output_type": "execute_result"
    }
   ],
   "source": [
    "# 23. 10 ile 20 arasinda bir vektor olusturunuz. Ve 3. indexten son indexe kadar olan degerleri yazdiriniz.\n",
    "vector4 = np.arange(10,20)\n",
    "vector4[3:]"
   ]
  },
  {
   "cell_type": "code",
   "execution_count": 25,
   "metadata": {},
   "outputs": [
    {
     "data": {
      "text/plain": [
       "array([[36, 25, 92, 61, 55, 34,  3, 22, 27, 72],\n",
       "       [77, 94, 82, 45, 72, 48, 58, 26, 74, 80],\n",
       "       [11, 30, 82, 55, 69,  3, 19, 28,  6, 61],\n",
       "       [33, 66, 77, 50, 41, 40, 45, 29, 48, 97],\n",
       "       [98,  4, 83, 69, 39, 89, 94, 56, 25, 17],\n",
       "       [14, 60,  1, 72, 88, 12, 74, 75, 94, 85],\n",
       "       [30, 24, 43, 35, 51, 93, 52, 74, 30, 55],\n",
       "       [57, 80, 93, 15, 39, 22, 22, 83, 50, 97],\n",
       "       [ 5, 35, 60, 95, 67,  2, 35, 28, 16, 31],\n",
       "       [75, 91, 11, 35, 55, 86, 85, 55, 62, 34]])"
      ]
     },
     "execution_count": 25,
     "metadata": {},
     "output_type": "execute_result"
    }
   ],
   "source": [
    "# 24. 10X10 luk bir matris olusturunuz\n",
    "matris7 = np.random.randint(100, size = (10,10))\n",
    "matris7"
   ]
  },
  {
   "cell_type": "code",
   "execution_count": 26,
   "metadata": {},
   "outputs": [
    {
     "data": {
      "text/plain": [
       "69"
      ]
     },
     "execution_count": 26,
     "metadata": {},
     "output_type": "execute_result"
    }
   ],
   "source": [
    "# 24.1 3.satir ve 5.sutuna ulasiniz.\n",
    "matris7[2,4]"
   ]
  },
  {
   "cell_type": "code",
   "execution_count": 27,
   "metadata": {},
   "outputs": [
    {
     "data": {
      "text/plain": [
       "array([55, 72, 69, 41, 39, 88, 51, 39, 67, 55])"
      ]
     },
     "execution_count": 27,
     "metadata": {},
     "output_type": "execute_result"
    }
   ],
   "source": [
    "# 24.2 5.sutunun tum satirlarina ulasiniz.\n",
    "matris7[:,4]"
   ]
  },
  {
   "cell_type": "code",
   "execution_count": 28,
   "metadata": {},
   "outputs": [
    {
     "data": {
      "text/plain": [
       "array([77, 94, 82, 45, 72, 48, 58, 26, 74, 80])"
      ]
     },
     "execution_count": 28,
     "metadata": {},
     "output_type": "execute_result"
    }
   ],
   "source": [
    "# 24.3 Tum sutunlarin 2.satirlarina ulasiniz.\n",
    "matris7[1,:]"
   ]
  },
  {
   "cell_type": "code",
   "execution_count": 29,
   "metadata": {},
   "outputs": [
    {
     "data": {
      "text/plain": [
       "array([[77, 94, 82, 45, 72, 48, 58, 26, 74, 80],\n",
       "       [11, 30, 82, 55, 69,  3, 19, 28,  6, 61],\n",
       "       [33, 66, 77, 50, 41, 40, 45, 29, 48, 97],\n",
       "       [98,  4, 83, 69, 39, 89, 94, 56, 25, 17],\n",
       "       [14, 60,  1, 72, 88, 12, 74, 75, 94, 85],\n",
       "       [30, 24, 43, 35, 51, 93, 52, 74, 30, 55],\n",
       "       [57, 80, 93, 15, 39, 22, 22, 83, 50, 97]])"
      ]
     },
     "execution_count": 29,
     "metadata": {},
     "output_type": "execute_result"
    }
   ],
   "source": [
    "# 24.4 tum sutunlarin 2 ile 7 arasindaki satirlarina ulasiniz.\n",
    "matris7[1:8,:]"
   ]
  },
  {
   "cell_type": "code",
   "execution_count": 30,
   "metadata": {},
   "outputs": [
    {
     "data": {
      "text/plain": [
       "array([[55, 69,  3, 19],\n",
       "       [50, 41, 40, 45],\n",
       "       [69, 39, 89, 94]])"
      ]
     },
     "execution_count": 30,
     "metadata": {},
     "output_type": "execute_result"
    }
   ],
   "source": [
    "# 24.5. satir indexi 2’den 5’e ve sutun indexi 3 den 7’ye kadar olan degerlere ulasiniz.\n",
    "matris7[2:5,3:7]"
   ]
  },
  {
   "cell_type": "code",
   "execution_count": 31,
   "metadata": {},
   "outputs": [
    {
     "data": {
      "text/plain": [
       "array([[14, 60,  1, 72],\n",
       "       [30, 24, 43, 35],\n",
       "       [57, 80, 93, 15],\n",
       "       [ 5, 35, 60, 95],\n",
       "       [75, 91, 11, 35]])"
      ]
     },
     "execution_count": 31,
     "metadata": {},
     "output_type": "execute_result"
    }
   ],
   "source": [
    "# 24.6 satir indexi 5’den en sona ve sutun indexi en bastan 4’e kadar olan degerlere ulasiniz.\n",
    "matris7[5:,:4]"
   ]
  },
  {
   "cell_type": "code",
   "execution_count": 32,
   "metadata": {},
   "outputs": [
    {
     "data": {
      "text/plain": [
       "array([[61,  3, 72],\n",
       "       [45, 58, 80],\n",
       "       [55, 19, 61],\n",
       "       [50, 45, 97],\n",
       "       [69, 94, 17],\n",
       "       [72, 74, 85],\n",
       "       [35, 52, 55],\n",
       "       [15, 22, 97],\n",
       "       [95, 35, 31],\n",
       "       [35, 85, 34]])"
      ]
     },
     "execution_count": 32,
     "metadata": {},
     "output_type": "execute_result"
    }
   ],
   "source": [
    "# 24.7 sutun indexi sadece 3, 6, 9 olan kolonlarin(sutunlarin), tum satirlarina ulasiniz.\n",
    "matris7[:,[3,6,9]]"
   ]
  },
  {
   "cell_type": "code",
   "execution_count": 33,
   "metadata": {},
   "outputs": [
    {
     "data": {
      "text/plain": [
       "array([[  36,   25,   92,   61,   55,   34,    3,   22,   27,   72],\n",
       "       [  77,   94,   82,   45,   72,   48,   58,   26,   74,   80],\n",
       "       [  11,   30,   82,   55,   69,    3,   19,   28,    6,   61],\n",
       "       [  33,   66,   77,   50,   41,   40,   45,   29,   48,   97],\n",
       "       [  98,    4,   83,   69,   39,   89,   94,   56,   25,   17],\n",
       "       [  14,   60,    1,   72,   88, 1979,   74,   75,   94,   85],\n",
       "       [  30,   24,   43,   35,   51,   93,   52,   74,   30,   55],\n",
       "       [  57,   80,   93,   15,   39,   22,   22,   83,   50,   97],\n",
       "       [   5,   35,   60,   95,   67,    2,   35,   28,   16,   31],\n",
       "       [  75,   91,   11,   35,   55,   86,   85,   55,   62,   34]])"
      ]
     },
     "execution_count": 33,
     "metadata": {},
     "output_type": "execute_result"
    }
   ],
   "source": [
    "# 24.8 5. indexli satir ve 5.indexli sutuna denk gelen degeri, dogum yilinizla degistiriniz. \n",
    "matris7[5,5]=1979\n",
    "matris7"
   ]
  },
  {
   "cell_type": "code",
   "execution_count": 34,
   "metadata": {},
   "outputs": [
    {
     "data": {
      "text/plain": [
       "array([ 0,  5, 10, 15, 20, 25, 30, 35, 40, 45])"
      ]
     },
     "execution_count": 34,
     "metadata": {},
     "output_type": "execute_result"
    }
   ],
   "source": [
    "# 25. 0’dan 50’ye kadar 5’er 5’er atlayarak giden bir array olusturunuz(tek boyutlu) ve numpy metodlariyla asagidaki islemleri uygulayin;\n",
    "array13 = np.arange(0,50,5)\n",
    "array13"
   ]
  },
  {
   "cell_type": "code",
   "execution_count": 35,
   "metadata": {},
   "outputs": [
    {
     "data": {
      "text/plain": [
       "5"
      ]
     },
     "execution_count": 35,
     "metadata": {},
     "output_type": "execute_result"
    }
   ],
   "source": [
    "# 25.1 20 den buyuk olan kac deger var.\n",
    "np.sum(array13>20)"
   ]
  },
  {
   "cell_type": "code",
   "execution_count": 36,
   "metadata": {},
   "outputs": [
    {
     "data": {
      "text/plain": [
       "6"
      ]
     },
     "execution_count": 36,
     "metadata": {},
     "output_type": "execute_result"
    }
   ],
   "source": [
    "# 25.2 30'dan kucuk kac deger var\n",
    "np.sum(array13<30)"
   ]
  },
  {
   "cell_type": "code",
   "execution_count": 37,
   "metadata": {},
   "outputs": [
    {
     "data": {
      "text/plain": [
       "0"
      ]
     },
     "execution_count": 37,
     "metadata": {},
     "output_type": "execute_result"
    }
   ],
   "source": [
    "# 25.3 icerisinde 33 gecen kac deger var\n",
    "np.sum(array13==33)"
   ]
  },
  {
   "cell_type": "code",
   "execution_count": 38,
   "metadata": {},
   "outputs": [
    {
     "data": {
      "text/plain": [
       "array([  0,  25,  50,  75, 100, 125, 150, 175, 200, 225])"
      ]
     },
     "execution_count": 38,
     "metadata": {},
     "output_type": "execute_result"
    }
   ],
   "source": [
    "# 25.4 olusturulan arrayin tum elemanlarini 5 ile carpin.\n",
    "np.multiply(array13,5)"
   ]
  },
  {
   "cell_type": "code",
   "execution_count": 39,
   "metadata": {},
   "outputs": [
    {
     "data": {
      "text/plain": [
       "array([0, 1, 0, 1, 0, 1, 0, 1, 0, 1], dtype=int32)"
      ]
     },
     "execution_count": 39,
     "metadata": {},
     "output_type": "execute_result"
    }
   ],
   "source": [
    "# 25.5 olusturulan arrayin tum elemanlarinin 2 ile bolumunden kalanlari yazdiriniz.\n",
    "array13%2"
   ]
  },
  {
   "cell_type": "code",
   "execution_count": 40,
   "metadata": {},
   "outputs": [
    {
     "data": {
      "text/plain": [
       "array([-0.26258331,  0.48312463,  0.56933806, -1.21010528,  0.3468017 ,\n",
       "        1.27257198, -1.9444687 , -0.32605668, -0.89418093,  0.2887614 ,\n",
       "       -1.85045733, -0.86585015, -0.451081  , -1.05492811, -0.96396377,\n",
       "        0.64029151, -0.51259743,  0.88597221, -0.56741524, -0.05792658,\n",
       "        0.8995761 , -1.8134648 , -0.06314305,  1.25833623, -0.67416216,\n",
       "        0.57177182,  0.31522564,  0.80539273, -0.20660309, -1.92777645,\n",
       "        1.34796442,  1.53030648,  0.60617021,  0.59579336, -0.18454676,\n",
       "        0.08843456, -1.21091131,  0.59235875,  0.97993673, -0.0861714 ,\n",
       "       -0.67237885,  0.73377289,  2.51010511, -1.65502053, -0.92686784,\n",
       "       -0.27886282, -0.54924087,  0.61174881,  0.92052521, -0.54420729])"
      ]
     },
     "execution_count": 40,
     "metadata": {},
     "output_type": "execute_result"
    }
   ],
   "source": [
    "# 26. 0 ile 1 arasinda 50 elamanli bir array olusturunuz \n",
    "array14 = np.random.normal(0,1,50)\n",
    "array14"
   ]
  },
  {
   "cell_type": "code",
   "execution_count": 41,
   "metadata": {},
   "outputs": [
    {
     "data": {
      "text/plain": [
       "-0.05801382306236492"
      ]
     },
     "execution_count": 41,
     "metadata": {},
     "output_type": "execute_result"
    }
   ],
   "source": [
    "#26.1 ortalamasini aliniz.\n",
    "np.mean(array14)"
   ]
  },
  {
   "cell_type": "code",
   "execution_count": 42,
   "metadata": {},
   "outputs": [
    {
     "data": {
      "text/plain": [
       "0.9808490721349055"
      ]
     },
     "execution_count": 42,
     "metadata": {},
     "output_type": "execute_result"
    }
   ],
   "source": [
    "# 26.2 standart sapmasini aliniz.\n",
    "np.std(array14)"
   ]
  },
  {
   "cell_type": "code",
   "execution_count": 43,
   "metadata": {},
   "outputs": [
    {
     "data": {
      "text/plain": [
       "0.9620649023079051"
      ]
     },
     "execution_count": 43,
     "metadata": {},
     "output_type": "execute_result"
    }
   ],
   "source": [
    "# 26.3 varyansini aliniz.\n",
    "np.var(array14)"
   ]
  },
  {
   "cell_type": "code",
   "execution_count": 44,
   "metadata": {},
   "outputs": [
    {
     "data": {
      "text/plain": [
       "-0.07465722532543795"
      ]
     },
     "execution_count": 44,
     "metadata": {},
     "output_type": "execute_result"
    }
   ],
   "source": [
    "# 26.4 median’ini aliniz.\n",
    "np.median(array14)"
   ]
  },
  {
   "cell_type": "code",
   "execution_count": 45,
   "metadata": {},
   "outputs": [
    {
     "data": {
      "text/plain": [
       "-1.9444686952752575"
      ]
     },
     "execution_count": 45,
     "metadata": {},
     "output_type": "execute_result"
    }
   ],
   "source": [
    "# 26.5 en kucuk degeri bulunuz.\n",
    "np.min(array14)"
   ]
  },
  {
   "cell_type": "code",
   "execution_count": 46,
   "metadata": {},
   "outputs": [
    {
     "data": {
      "text/plain": [
       "2.510105107133254"
      ]
     },
     "execution_count": 46,
     "metadata": {},
     "output_type": "execute_result"
    }
   ],
   "source": [
    "# 26.6 en buyuk degeri bulunuz.\n",
    "np.max(array14)"
   ]
  }
 ],
 "metadata": {
  "kernelspec": {
   "display_name": "Python 3",
   "language": "python",
   "name": "python3"
  },
  "language_info": {
   "codemirror_mode": {
    "name": "ipython",
    "version": 3
   },
   "file_extension": ".py",
   "mimetype": "text/x-python",
   "name": "python",
   "nbconvert_exporter": "python",
   "pygments_lexer": "ipython3",
   "version": "3.7.3"
  }
 },
 "nbformat": 4,
 "nbformat_minor": 2
}
