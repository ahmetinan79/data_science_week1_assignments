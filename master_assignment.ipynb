{
 "cells": [
  {
   "cell_type": "markdown",
   "metadata": {},
   "source": [
    "# 10x10 Matrix"
   ]
  },
  {
   "cell_type": "code",
   "execution_count": 2,
   "metadata": {},
   "outputs": [
    {
     "name": "stdout",
     "output_type": "stream",
     "text": [
      "[[-6.85590280e-04 -4.68301575e-01  4.16313864e-01  4.36251369e-01\n",
      "   8.32359989e-02  6.03551298e-01  5.57476919e-02  3.44868060e-01\n",
      "  -3.14065958e-02 -5.60277091e-01]\n",
      " [-7.62686110e-01 -2.52221576e-02 -1.72013780e-01 -1.00934624e-02\n",
      "   5.32783517e-01 -7.14070003e-01 -1.21890563e-01 -1.55759109e-01\n",
      "   4.37538640e-01 -3.17276338e-01]\n",
      " [ 5.67190174e-01  1.81051234e-01 -3.71134259e-02 -9.96454841e-02\n",
      "   3.69235722e-01  6.49605989e-01  6.16901780e-02 -2.27595443e-01\n",
      "  -2.09650111e-01  7.62821289e-01]\n",
      " [-7.00730405e-01  2.58030449e-01 -1.86456733e-01  5.76130823e-02\n",
      "   2.87321693e-01  1.17856438e-03  5.34151550e-01 -6.28055867e-01\n",
      "   4.99400695e-01  2.28988094e-02]\n",
      " [ 3.07756496e-01  5.28002460e-01 -2.66047091e-01 -2.62678672e-02\n",
      "   7.75348970e-03  3.88177894e-01  2.05216770e-01  4.99745574e-01\n",
      "  -3.33417934e-02 -9.25347926e-01]\n",
      " [ 6.18652033e-01 -3.77389244e-03  3.06462809e-01  2.03875677e-01\n",
      "  -4.88573139e-01 -9.08693986e-02  3.84876429e-01 -1.38081866e-01\n",
      "   1.28948738e-02  1.04548903e-01]\n",
      " [-3.34012170e-01  5.08795003e-01  4.56953426e-01 -1.93245924e-01\n",
      "  -5.68906481e-02  3.03372972e-01  6.71676060e-02  6.85650751e-02\n",
      "   2.67917588e-01  7.66701887e-01]\n",
      " [ 1.11445776e-01  2.72743577e-01  5.92106949e-01 -5.69907544e-01\n",
      "  -6.49598833e-01  1.68315462e-01 -1.29080329e-01  6.80268855e-02\n",
      "  -9.92570127e-02 -4.21375762e-01]\n",
      " [ 6.92398207e-01  6.79101055e-01  4.84934127e-01  2.30112640e-02\n",
      "   9.19447751e-01 -7.65709430e-01  1.91503166e-01 -6.94796003e-01\n",
      "  -6.95044569e-02 -2.93949373e-01]\n",
      " [ 1.50233630e-01  5.72428057e-01 -6.84492225e-01  7.18812053e-01\n",
      "   2.05813675e-01 -8.68427399e-01  1.96647249e-01 -3.51661368e-01\n",
      "  -5.61706825e-01 -7.95967719e-02]] \n",
      "\n",
      "diagonal values = [-0.00068559 -0.02522216 -0.03711343  0.05761308  0.00775349 -0.0908694\n",
      "  0.06716761  0.06802689 -0.06950446 -0.07959677]\n",
      "\n",
      "number of loops: 32704276\n",
      "total time: 9.327800186475118 minutes\n"
     ]
    }
   ],
   "source": [
    "import numpy as np\n",
    "import time\n",
    "\n",
    "start_time = time.time()\n",
    "i=0\n",
    "while True:\n",
    "    a = np.random.random((10,10))\n",
    "    b = np.random.random((10,10))\n",
    "    c = a-b\n",
    "    diagonal = np.array([c[0,0],c[1,1],c[2,2],c[3,3],c[4,4],c[5,5],c[6,6],c[7,7],c[8,8],c[9,9]])\n",
    "    i+=1\n",
    "    if np.all((-0.1<diagonal)&(diagonal<0.1)):\n",
    "        break\n",
    "\n",
    "end_time = time.time()\n",
    "print(c,\"\\n\")\n",
    "print(f\"diagonal values = {diagonal}\\n\")\n",
    "print(f\"number of loops: {i}\")\n",
    "print(f\"total time: {(end_time-start_time)/60} minutes\")"
   ]
  },
  {
   "cell_type": "markdown",
   "metadata": {},
   "source": [
    "# 20x20 Matrix"
   ]
  },
  {
   "cell_type": "code",
   "execution_count": null,
   "metadata": {},
   "outputs": [],
   "source": [
    "import numpy as np\n",
    "import time\n",
    "\n",
    "start_time = time.time()\n",
    "i=0\n",
    "while True:\n",
    "    a = np.random.random((20,20))\n",
    "    b = np.random.random((20,20))\n",
    "    c = a-b\n",
    "    diagonal = np.array([c[0,0],c[1,1],c[2,2],c[3,3],c[4,4],c[5,5],c[6,6],c[7,7],c[8,8],c[9,9],c[10,10],c[11,11],c[12,12],\n",
    "                        c[13,13],c[14,14],c[15,15],c[16,16],c[17,17],c[18,18],c[19,19]])\n",
    "    i+=1\n",
    "    if np.all((-0.1<diagonal)&(diagonal<0.1)):\n",
    "        break\n",
    "\n",
    "end_time = time.time()\n",
    "print(c,\"\\n\")\n",
    "print(f\"diagonal values = {diagonal}\\n\")\n",
    "print(f\"number of loops: {i}\")\n",
    "print(f\"total time: {(end_time-start_time)/60} minutes\")"
   ]
  }
 ],
 "metadata": {
  "kernelspec": {
   "display_name": "Python 3",
   "language": "python",
   "name": "python3"
  },
  "language_info": {
   "codemirror_mode": {
    "name": "ipython",
    "version": 3
   },
   "file_extension": ".py",
   "mimetype": "text/x-python",
   "name": "python",
   "nbconvert_exporter": "python",
   "pygments_lexer": "ipython3",
   "version": "3.7.3"
  }
 },
 "nbformat": 4,
 "nbformat_minor": 2
}
