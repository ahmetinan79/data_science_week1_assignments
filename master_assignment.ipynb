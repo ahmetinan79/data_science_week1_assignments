{
 "cells": [
  {
   "cell_type": "code",
   "execution_count": 3,
   "metadata": {},
   "outputs": [
    {
     "name": "stdout",
     "output_type": "stream",
     "text": [
      "[[ 0.06147177 -0.17945463  0.33332914 -0.02097551 -0.31338959  0.39924871\n",
      "   0.41020737 -0.02578136  0.41265801 -0.04287637]\n",
      " [ 0.14431768 -0.07840917  0.11493506 -0.42523529  0.38405234 -0.11448442\n",
      "  -0.35882352 -0.83319437  0.46669891  0.07513278]\n",
      " [ 0.03010137 -0.31162571  0.06653056 -0.66372711 -0.52022825  0.90310799\n",
      "  -0.35054836  0.59349068 -0.18935245  0.4141948 ]\n",
      " [-0.05181688  0.14010238 -0.08333021  0.03933081  0.11505617  0.03349824\n",
      "  -0.34429299 -0.6538711  -0.41286401  0.29672086]\n",
      " [-0.45436642 -0.24786541 -0.62877784 -0.17824196 -0.06576228 -0.09632877\n",
      "  -0.09275102  0.2400866   0.19083313 -0.30811397]\n",
      " [-0.09379453 -0.19669884 -0.03397374  0.35123249  0.22486281 -0.09236405\n",
      "   0.06308867  0.67327011  0.19094622  0.27764101]\n",
      " [ 0.63119492 -0.10105448 -0.10874393  0.14144587  0.32444655 -0.29662038\n",
      "   0.0317611  -0.90982272 -0.14134347  0.59461667]\n",
      " [-0.46347925 -0.21470773 -0.06035744  0.14852822  0.62364991 -0.21718225\n",
      "   0.91521577  0.08742343  0.30002711  0.66789186]\n",
      " [ 0.10474017  0.16070842  0.67321077  0.12212214  0.64180938  0.1848089\n",
      "  -0.37209705  0.85455857  0.07272108  0.07266561]\n",
      " [-0.48414755  0.79413321  0.41983131 -0.00677812  0.13984275 -0.03850612\n",
      "   0.68578402 -0.09138634  0.26539154  0.06698107]]\n",
      "number of loops: 9532445\n",
      "total time: 160.25593972206116\n"
     ]
    }
   ],
   "source": [
    "import numpy as np\n",
    "import time\n",
    "\n",
    "start_time = time.time()\n",
    "i=0\n",
    "while True:\n",
    "    a = np.random.random((10,10))\n",
    "    b = np.random.random((10,10))\n",
    "    c = a-b\n",
    "    diagonal = np.array([c[0,0],c[1,1],c[2,2],c[3,3],c[4,4],c[5,5],c[6,6],c[7,7],c[8,8],c[9,9]])\n",
    "    i+=1\n",
    "    if np.all((-0.1<diagonal)&(diagonal<0.1)):\n",
    "        break\n",
    "\n",
    "end_time = time.time()\n",
    "print(c)\n",
    "print(f\"number of loops: {i}\")\n",
    "print(f\"total time: {(end_time-start_time)/60} minutes\")"
   ]
  },
  {
   "cell_type": "code",
   "execution_count": 5,
   "metadata": {},
   "outputs": [
    {
     "ename": "KeyboardInterrupt",
     "evalue": "",
     "output_type": "error",
     "traceback": [
      "\u001b[1;31m---------------------------------------------------------------------------\u001b[0m",
      "\u001b[1;31mKeyboardInterrupt\u001b[0m                         Traceback (most recent call last)",
      "\u001b[1;32m<ipython-input-5-36e4581a75e4>\u001b[0m in \u001b[0;36m<module>\u001b[1;34m\u001b[0m\n\u001b[0;32m      6\u001b[0m \u001b[1;32mwhile\u001b[0m \u001b[1;32mTrue\u001b[0m\u001b[1;33m:\u001b[0m\u001b[1;33m\u001b[0m\u001b[1;33m\u001b[0m\u001b[0m\n\u001b[0;32m      7\u001b[0m     \u001b[0ma\u001b[0m \u001b[1;33m=\u001b[0m \u001b[0mnp\u001b[0m\u001b[1;33m.\u001b[0m\u001b[0mrandom\u001b[0m\u001b[1;33m.\u001b[0m\u001b[0mrandom\u001b[0m\u001b[1;33m(\u001b[0m\u001b[1;33m(\u001b[0m\u001b[1;36m20\u001b[0m\u001b[1;33m,\u001b[0m\u001b[1;36m20\u001b[0m\u001b[1;33m)\u001b[0m\u001b[1;33m)\u001b[0m\u001b[1;33m\u001b[0m\u001b[1;33m\u001b[0m\u001b[0m\n\u001b[1;32m----> 8\u001b[1;33m     \u001b[0mb\u001b[0m \u001b[1;33m=\u001b[0m \u001b[0mnp\u001b[0m\u001b[1;33m.\u001b[0m\u001b[0mrandom\u001b[0m\u001b[1;33m.\u001b[0m\u001b[0mrandom\u001b[0m\u001b[1;33m(\u001b[0m\u001b[1;33m(\u001b[0m\u001b[1;36m20\u001b[0m\u001b[1;33m,\u001b[0m\u001b[1;36m20\u001b[0m\u001b[1;33m)\u001b[0m\u001b[1;33m)\u001b[0m\u001b[1;33m\u001b[0m\u001b[1;33m\u001b[0m\u001b[0m\n\u001b[0m\u001b[0;32m      9\u001b[0m     \u001b[0mc\u001b[0m \u001b[1;33m=\u001b[0m \u001b[0ma\u001b[0m\u001b[1;33m-\u001b[0m\u001b[0mb\u001b[0m\u001b[1;33m\u001b[0m\u001b[1;33m\u001b[0m\u001b[0m\n\u001b[0;32m     10\u001b[0m     diagonal = np.array([c[0,0],c[1,1],c[2,2],c[3,3],c[4,4],c[5,5],c[6,6],c[7,7],c[8,8],c[9,9],c[10,10],c[11,11],c[12,12],\n",
      "\u001b[1;31mKeyboardInterrupt\u001b[0m: "
     ]
    }
   ],
   "source": [
    "import numpy as np\n",
    "import time\n",
    "\n",
    "start_time = time.time()\n",
    "i=0\n",
    "while True:\n",
    "    a = np.random.random((20,20))\n",
    "    b = np.random.random((20,20))\n",
    "    c = a-b\n",
    "    diagonal = np.array([c[0,0],c[1,1],c[2,2],c[3,3],c[4,4],c[5,5],c[6,6],c[7,7],c[8,8],c[9,9],c[10,10],c[11,11],c[12,12],\n",
    "                        c[13,13],c[14,14],c[15,15],c[16,16],c[17,17],c[18,18],c[19,19]])\n",
    "    i+=1\n",
    "    if np.all((-0.1<diagonal)&(diagonal<0.1)):\n",
    "        break\n",
    "\n",
    "end_time = time.time()\n",
    "print(c,\"\\n\")\n",
    "print(f\"diagonal values = {diagonal}\\n\")\n",
    "print(f\"number of loops: {i}\")\n",
    "print(f\"total time: {(end_time-start_time)/60} minutes\")"
   ]
  },
  {
   "cell_type": "code",
   "execution_count": null,
   "metadata": {},
   "outputs": [],
   "source": []
  }
 ],
 "metadata": {
  "kernelspec": {
   "display_name": "Python 3",
   "language": "python",
   "name": "python3"
  },
  "language_info": {
   "codemirror_mode": {
    "name": "ipython",
    "version": 3
   },
   "file_extension": ".py",
   "mimetype": "text/x-python",
   "name": "python",
   "nbconvert_exporter": "python",
   "pygments_lexer": "ipython3",
   "version": "3.7.3"
  }
 },
 "nbformat": 4,
 "nbformat_minor": 2
}
